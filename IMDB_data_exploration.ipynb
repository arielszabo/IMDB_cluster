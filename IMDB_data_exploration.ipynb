{
 "cells": [
  {
   "cell_type": "code",
   "execution_count": 2,
   "metadata": {},
   "outputs": [],
   "source": [
    "import sqlalchemy\n",
    "import os\n",
    "import pandas as pd\n",
    "import numpy as np\n",
    "import matplotlib.pyplot as plt\n",
    "import seaborn as sns\n",
    "%matplotlib inline\n",
    "sns.set()"
   ]
  },
  {
   "cell_type": "code",
   "execution_count": 84,
   "metadata": {},
   "outputs": [],
   "source": [
    "engine = sqlalchemy.create_engine('sqlite:///{}'.format(os.path.join(os.getcwd(), 'imdb_test.db')))\n",
    "movies = pd.read_sql(\"\"\"select * from movies\"\"\", con=engine)"
   ]
  },
  {
   "cell_type": "code",
   "execution_count": 4,
   "metadata": {},
   "outputs": [
    {
     "data": {
      "text/html": [
       "<div>\n",
       "<style scoped>\n",
       "    .dataframe tbody tr th:only-of-type {\n",
       "        vertical-align: middle;\n",
       "    }\n",
       "\n",
       "    .dataframe tbody tr th {\n",
       "        vertical-align: top;\n",
       "    }\n",
       "\n",
       "    .dataframe thead th {\n",
       "        text-align: right;\n",
       "    }\n",
       "</style>\n",
       "<table border=\"1\" class=\"dataframe\">\n",
       "  <thead>\n",
       "    <tr style=\"text-align: right;\">\n",
       "      <th></th>\n",
       "      <th>id</th>\n",
       "      <th>Actors</th>\n",
       "      <th>Awards</th>\n",
       "      <th>BoxOffice</th>\n",
       "      <th>Country</th>\n",
       "      <th>DVD</th>\n",
       "      <th>Director</th>\n",
       "      <th>Genre</th>\n",
       "      <th>Language</th>\n",
       "      <th>Metascore</th>\n",
       "      <th>...</th>\n",
       "      <th>Response</th>\n",
       "      <th>Runtime</th>\n",
       "      <th>Title</th>\n",
       "      <th>Type</th>\n",
       "      <th>Website</th>\n",
       "      <th>Writer</th>\n",
       "      <th>Year</th>\n",
       "      <th>imdbID</th>\n",
       "      <th>imdbRating</th>\n",
       "      <th>imdbVotes</th>\n",
       "    </tr>\n",
       "  </thead>\n",
       "  <tbody>\n",
       "    <tr>\n",
       "      <th>0</th>\n",
       "      <td>None</td>\n",
       "      <td>Peter Weller, Nancy Allen, Dan O'Herlihy, Ronn...</td>\n",
       "      <td>Nominated for 2 Oscars. Another 11 wins &amp; 10 n...</td>\n",
       "      <td>N/A</td>\n",
       "      <td>USA</td>\n",
       "      <td>02 Oct 2001</td>\n",
       "      <td>Paul Verhoeven</td>\n",
       "      <td>Action, Crime, Sci-Fi</td>\n",
       "      <td>English</td>\n",
       "      <td>67</td>\n",
       "      <td>...</td>\n",
       "      <td>True</td>\n",
       "      <td>102 min</td>\n",
       "      <td>RoboCop</td>\n",
       "      <td>movie</td>\n",
       "      <td>https://www.facebook.com/RobocopMovie</td>\n",
       "      <td>Edward Neumeier, Michael Miner</td>\n",
       "      <td>1987</td>\n",
       "      <td>tt0093870</td>\n",
       "      <td>7.5</td>\n",
       "      <td>204,183</td>\n",
       "    </tr>\n",
       "    <tr>\n",
       "      <th>1</th>\n",
       "      <td>None</td>\n",
       "      <td>Rachel Weisz, Vanessa Redgrave, Monica Bellucc...</td>\n",
       "      <td>8 wins &amp; 11 nominations.</td>\n",
       "      <td>$900,000</td>\n",
       "      <td>Canada, Germany</td>\n",
       "      <td>24 Jan 2012</td>\n",
       "      <td>Larysa Kondracki</td>\n",
       "      <td>Action, Biography, Crime</td>\n",
       "      <td>English, Romanian, Russian, Serbian</td>\n",
       "      <td>59</td>\n",
       "      <td>...</td>\n",
       "      <td>True</td>\n",
       "      <td>112 min</td>\n",
       "      <td>The Whistleblower</td>\n",
       "      <td>movie</td>\n",
       "      <td>http://www.thewhistleblower-movie.com/</td>\n",
       "      <td>Larysa Kondracki, Eilis Kirwan</td>\n",
       "      <td>2010</td>\n",
       "      <td>tt0896872</td>\n",
       "      <td>7.2</td>\n",
       "      <td>28,522</td>\n",
       "    </tr>\n",
       "    <tr>\n",
       "      <th>2</th>\n",
       "      <td>None</td>\n",
       "      <td>Yoon-Seok Kim, Jung-woo Ha, Yeong-hie Seo, Yoo...</td>\n",
       "      <td>18 wins &amp; 24 nominations.</td>\n",
       "      <td>N/A</td>\n",
       "      <td>South Korea</td>\n",
       "      <td>04 Aug 2009</td>\n",
       "      <td>Hong-jin Na</td>\n",
       "      <td>Action, Crime, Thriller</td>\n",
       "      <td>Korean</td>\n",
       "      <td>64</td>\n",
       "      <td>...</td>\n",
       "      <td>True</td>\n",
       "      <td>125 min</td>\n",
       "      <td>The Chaser</td>\n",
       "      <td>movie</td>\n",
       "      <td>http://www.thechaser.co.kr/</td>\n",
       "      <td>Won-Chan Hong, Shinho Lee, Hong-jin Na</td>\n",
       "      <td>2008</td>\n",
       "      <td>tt1190539</td>\n",
       "      <td>7.9</td>\n",
       "      <td>46,084</td>\n",
       "    </tr>\n",
       "    <tr>\n",
       "      <th>3</th>\n",
       "      <td>None</td>\n",
       "      <td>Kevin Conroy, Dana Delany, Hart Bochner, Stacy...</td>\n",
       "      <td>1 nomination.</td>\n",
       "      <td>N/A</td>\n",
       "      <td>USA</td>\n",
       "      <td>21 Dec 1999</td>\n",
       "      <td>Eric Radomski, Bruce Timm, Kevin Altieri, Boyd...</td>\n",
       "      <td>Animation, Action, Adventure</td>\n",
       "      <td>English</td>\n",
       "      <td>N/A</td>\n",
       "      <td>...</td>\n",
       "      <td>True</td>\n",
       "      <td>76 min</td>\n",
       "      <td>Batman: Mask of the Phantasm</td>\n",
       "      <td>movie</td>\n",
       "      <td>N/A</td>\n",
       "      <td>Bob Kane (character created by: Batman), Alan ...</td>\n",
       "      <td>1993</td>\n",
       "      <td>tt0106364</td>\n",
       "      <td>7.9</td>\n",
       "      <td>35,653</td>\n",
       "    </tr>\n",
       "    <tr>\n",
       "      <th>4</th>\n",
       "      <td>None</td>\n",
       "      <td>Maggie Cheung, Tony Chiu-Wai Leung, Ping Lam S...</td>\n",
       "      <td>Nominated for 1 BAFTA Film Award. Another 44 w...</td>\n",
       "      <td>N/A</td>\n",
       "      <td>Hong Kong, China</td>\n",
       "      <td>05 Mar 2002</td>\n",
       "      <td>Kar-Wai Wong</td>\n",
       "      <td>Drama, Romance</td>\n",
       "      <td>Cantonese, Shanghainese, French, Spanish</td>\n",
       "      <td>85</td>\n",
       "      <td>...</td>\n",
       "      <td>True</td>\n",
       "      <td>98 min</td>\n",
       "      <td>In the Mood for Love</td>\n",
       "      <td>movie</td>\n",
       "      <td>http://www.wkw-inthemoodforlove.com</td>\n",
       "      <td>Kar-Wai Wong</td>\n",
       "      <td>2000</td>\n",
       "      <td>tt0118694</td>\n",
       "      <td>8.1</td>\n",
       "      <td>98,079</td>\n",
       "    </tr>\n",
       "  </tbody>\n",
       "</table>\n",
       "<p>5 rows × 25 columns</p>\n",
       "</div>"
      ],
      "text/plain": [
       "     id                                             Actors  \\\n",
       "0  None  Peter Weller, Nancy Allen, Dan O'Herlihy, Ronn...   \n",
       "1  None  Rachel Weisz, Vanessa Redgrave, Monica Bellucc...   \n",
       "2  None  Yoon-Seok Kim, Jung-woo Ha, Yeong-hie Seo, Yoo...   \n",
       "3  None  Kevin Conroy, Dana Delany, Hart Bochner, Stacy...   \n",
       "4  None  Maggie Cheung, Tony Chiu-Wai Leung, Ping Lam S...   \n",
       "\n",
       "                                              Awards BoxOffice  \\\n",
       "0  Nominated for 2 Oscars. Another 11 wins & 10 n...       N/A   \n",
       "1                           8 wins & 11 nominations.  $900,000   \n",
       "2                          18 wins & 24 nominations.       N/A   \n",
       "3                                      1 nomination.       N/A   \n",
       "4  Nominated for 1 BAFTA Film Award. Another 44 w...       N/A   \n",
       "\n",
       "            Country          DVD  \\\n",
       "0               USA  02 Oct 2001   \n",
       "1   Canada, Germany  24 Jan 2012   \n",
       "2       South Korea  04 Aug 2009   \n",
       "3               USA  21 Dec 1999   \n",
       "4  Hong Kong, China  05 Mar 2002   \n",
       "\n",
       "                                            Director  \\\n",
       "0                                     Paul Verhoeven   \n",
       "1                                   Larysa Kondracki   \n",
       "2                                        Hong-jin Na   \n",
       "3  Eric Radomski, Bruce Timm, Kevin Altieri, Boyd...   \n",
       "4                                       Kar-Wai Wong   \n",
       "\n",
       "                          Genre                                  Language  \\\n",
       "0         Action, Crime, Sci-Fi                                   English   \n",
       "1      Action, Biography, Crime       English, Romanian, Russian, Serbian   \n",
       "2       Action, Crime, Thriller                                    Korean   \n",
       "3  Animation, Action, Adventure                                   English   \n",
       "4                Drama, Romance  Cantonese, Shanghainese, French, Spanish   \n",
       "\n",
       "  Metascore    ...    Response  Runtime                         Title   Type  \\\n",
       "0        67    ...        True  102 min                       RoboCop  movie   \n",
       "1        59    ...        True  112 min             The Whistleblower  movie   \n",
       "2        64    ...        True  125 min                    The Chaser  movie   \n",
       "3       N/A    ...        True   76 min  Batman: Mask of the Phantasm  movie   \n",
       "4        85    ...        True   98 min          In the Mood for Love  movie   \n",
       "\n",
       "                                  Website  \\\n",
       "0   https://www.facebook.com/RobocopMovie   \n",
       "1  http://www.thewhistleblower-movie.com/   \n",
       "2             http://www.thechaser.co.kr/   \n",
       "3                                     N/A   \n",
       "4     http://www.wkw-inthemoodforlove.com   \n",
       "\n",
       "                                              Writer  Year     imdbID  \\\n",
       "0                     Edward Neumeier, Michael Miner  1987  tt0093870   \n",
       "1                     Larysa Kondracki, Eilis Kirwan  2010  tt0896872   \n",
       "2             Won-Chan Hong, Shinho Lee, Hong-jin Na  2008  tt1190539   \n",
       "3  Bob Kane (character created by: Batman), Alan ...  1993  tt0106364   \n",
       "4                                       Kar-Wai Wong  2000  tt0118694   \n",
       "\n",
       "  imdbRating imdbVotes  \n",
       "0        7.5   204,183  \n",
       "1        7.2    28,522  \n",
       "2        7.9    46,084  \n",
       "3        7.9    35,653  \n",
       "4        8.1    98,079  \n",
       "\n",
       "[5 rows x 25 columns]"
      ]
     },
     "execution_count": 4,
     "metadata": {},
     "output_type": "execute_result"
    }
   ],
   "source": [
    "movies.head()"
   ]
  },
  {
   "cell_type": "code",
   "execution_count": 8,
   "metadata": {},
   "outputs": [
    {
     "data": {
      "text/plain": [
       "Index(['id', 'Actors', 'Awards', 'BoxOffice', 'Country', 'DVD', 'Director',\n",
       "       'Genre', 'Language', 'Metascore', 'Plot', 'Poster', 'Production',\n",
       "       'Rated', 'Released', 'Response', 'Runtime', 'Title', 'Type', 'Website',\n",
       "       'Writer', 'Year', 'imdbID', 'imdbRating', 'imdbVotes'],\n",
       "      dtype='object')"
      ]
     },
     "execution_count": 8,
     "metadata": {},
     "output_type": "execute_result"
    }
   ],
   "source": [
    "movies.columns"
   ]
  },
  {
   "cell_type": "markdown",
   "metadata": {},
   "source": [
    "# extract year from 'Released'"
   ]
  },
  {
   "cell_type": "code",
   "execution_count": 46,
   "metadata": {},
   "outputs": [
    {
     "name": "stderr",
     "output_type": "stream",
     "text": [
      "/home/ariel/venv/lib/python3.5/site-packages/ipykernel_launcher.py:1: FutureWarning: currently extract(expand=None) means expand=False (return Index/Series/DataFrame) but in a future version of pandas this will be changed to expand=True (return DataFrame)\n",
      "  \"\"\"Entry point for launching an IPython kernel.\n"
     ]
    },
    {
     "data": {
      "text/html": [
       "<div>\n",
       "<style scoped>\n",
       "    .dataframe tbody tr th:only-of-type {\n",
       "        vertical-align: middle;\n",
       "    }\n",
       "\n",
       "    .dataframe tbody tr th {\n",
       "        vertical-align: top;\n",
       "    }\n",
       "\n",
       "    .dataframe thead th {\n",
       "        text-align: right;\n",
       "    }\n",
       "</style>\n",
       "<table border=\"1\" class=\"dataframe\">\n",
       "  <thead>\n",
       "    <tr style=\"text-align: right;\">\n",
       "      <th></th>\n",
       "      <th>Released</th>\n",
       "      <th>Released_year</th>\n",
       "      <th>Year</th>\n",
       "    </tr>\n",
       "  </thead>\n",
       "  <tbody>\n",
       "    <tr>\n",
       "      <th>1</th>\n",
       "      <td>27 Oct 2011</td>\n",
       "      <td>2011.0</td>\n",
       "      <td>2010</td>\n",
       "    </tr>\n",
       "    <tr>\n",
       "      <th>4</th>\n",
       "      <td>09 Mar 2001</td>\n",
       "      <td>2001.0</td>\n",
       "      <td>2000</td>\n",
       "    </tr>\n",
       "    <tr>\n",
       "      <th>10</th>\n",
       "      <td>28 Jan 2005</td>\n",
       "      <td>2005.0</td>\n",
       "      <td>2004</td>\n",
       "    </tr>\n",
       "    <tr>\n",
       "      <th>15</th>\n",
       "      <td>10 May 1967</td>\n",
       "      <td>1967.0</td>\n",
       "      <td>1965</td>\n",
       "    </tr>\n",
       "    <tr>\n",
       "      <th>16</th>\n",
       "      <td>27 Aug 2004</td>\n",
       "      <td>2004.0</td>\n",
       "      <td>2002</td>\n",
       "    </tr>\n",
       "  </tbody>\n",
       "</table>\n",
       "</div>"
      ],
      "text/plain": [
       "       Released  Released_year  Year\n",
       "1   27 Oct 2011         2011.0  2010\n",
       "4   09 Mar 2001         2001.0  2000\n",
       "10  28 Jan 2005         2005.0  2004\n",
       "15  10 May 1967         1967.0  1965\n",
       "16  27 Aug 2004         2004.0  2002"
      ]
     },
     "execution_count": 46,
     "metadata": {},
     "output_type": "execute_result"
    }
   ],
   "source": [
    "movies['Released_year'] = movies['Released'].str.extract(r'\\w (\\d+)').astype(float)\n",
    "movies.query('Released_year != Year')[['Released', 'Released_year', 'Year']].head()"
   ]
  },
  {
   "cell_type": "code",
   "execution_count": 38,
   "metadata": {},
   "outputs": [
    {
     "data": {
      "text/plain": [
       "0.0     558\n",
       "1.0      83\n",
       "2.0      14\n",
       "6.0       1\n",
       "4.0       1\n",
       "19.0      1\n",
       "dtype: int64"
      ]
     },
     "execution_count": 38,
     "metadata": {},
     "output_type": "execute_result"
    }
   ],
   "source": [
    "np.abs(movies['Released_year'] - movies['Year']).value_counts()"
   ]
  },
  {
   "cell_type": "markdown",
   "metadata": {},
   "source": [
    "The difference is not so big so I'll stick to the 'Year' column"
   ]
  },
  {
   "cell_type": "code",
   "execution_count": 47,
   "metadata": {},
   "outputs": [],
   "source": [
    "movies.drop('Released_year', axis=1, inplace=True)"
   ]
  },
  {
   "cell_type": "markdown",
   "metadata": {},
   "source": [
    "# clean"
   ]
  },
  {
   "cell_type": "code",
   "execution_count": 95,
   "metadata": {},
   "outputs": [],
   "source": [
    "def clean_movies(movies_df):\n",
    "    movies_df = movies_df.copy()\n",
    "    # drop unrelevant columns\n",
    "    movies_df.drop(['id', 'DVD', 'Website', 'Response', 'Poster', 'Released'], axis=1, inplace=True)\n",
    "    # conver to nan\n",
    "    movies_df.replace('N/A', np.nan, inplace=True)\n",
    "    \n",
    "    movies_df['imdbVotes'].str.replace(',', '').astype(float)\n",
    "    \n",
    "    BoxOffice_pound_index = movies_df.dropna()[~movies_df['BoxOffice'].dropna().str.contains('\\$')].index\n",
    "    movies_df['BoxOffice'] = movies_df.BoxOffice.str.replace('\\D', '').astype(float)\n",
    "    movies_df.loc[BoxOffice_pound_index, 'BoxOffice'] *= 1.3\n",
    "    return movies_df"
   ]
  },
  {
   "cell_type": "code",
   "execution_count": 92,
   "metadata": {},
   "outputs": [
    {
     "data": {
      "text/plain": [
       "Int64Index([  0,   2,   3,   4,   9,  11,  15,  16,  17,  18,\n",
       "            ...\n",
       "            640, 641, 642, 646, 650, 655, 658, 660, 661, 662],\n",
       "           dtype='int64', length=395)"
      ]
     },
     "execution_count": 92,
     "metadata": {},
     "output_type": "execute_result"
    }
   ],
   "source": [
    "movies[~movies['BoxOffice'].str.contains('\\$')].index"
   ]
  },
  {
   "cell_type": "code",
   "execution_count": 96,
   "metadata": {},
   "outputs": [
    {
     "name": "stderr",
     "output_type": "stream",
     "text": [
      "/home/ariel/venv/lib/python3.5/site-packages/ipykernel_launcher.py:10: UserWarning: Boolean Series key will be reindexed to match DataFrame index.\n",
      "  # Remove the CWD from sys.path while we load stuff.\n"
     ]
    }
   ],
   "source": [
    "clean = clean_movies(movies)"
   ]
  },
  {
   "cell_type": "code",
   "execution_count": 97,
   "metadata": {},
   "outputs": [
    {
     "name": "stdout",
     "output_type": "stream",
     "text": [
      "<class 'pandas.core.frame.DataFrame'>\n",
      "RangeIndex: 663 entries, 0 to 662\n",
      "Data columns (total 19 columns):\n",
      "Actors        663 non-null object\n",
      "Awards        579 non-null object\n",
      "BoxOffice     283 non-null float64\n",
      "Country       663 non-null object\n",
      "Director      663 non-null object\n",
      "Genre         663 non-null object\n",
      "Language      662 non-null object\n",
      "Metascore     532 non-null float64\n",
      "Plot          663 non-null object\n",
      "Production    640 non-null object\n",
      "Rated         634 non-null object\n",
      "Runtime       641 non-null object\n",
      "Title         663 non-null object\n",
      "Type          663 non-null object\n",
      "Writer        663 non-null object\n",
      "Year          663 non-null int64\n",
      "imdbID        663 non-null object\n",
      "imdbRating    636 non-null float64\n",
      "imdbVotes     636 non-null object\n",
      "dtypes: float64(3), int64(1), object(15)\n",
      "memory usage: 98.5+ KB\n"
     ]
    }
   ],
   "source": [
    "clean.info()"
   ]
  },
  {
   "cell_type": "code",
   "execution_count": 98,
   "metadata": {},
   "outputs": [
    {
     "data": {
      "text/html": [
       "<div>\n",
       "<style scoped>\n",
       "    .dataframe tbody tr th:only-of-type {\n",
       "        vertical-align: middle;\n",
       "    }\n",
       "\n",
       "    .dataframe tbody tr th {\n",
       "        vertical-align: top;\n",
       "    }\n",
       "\n",
       "    .dataframe thead th {\n",
       "        text-align: right;\n",
       "    }\n",
       "</style>\n",
       "<table border=\"1\" class=\"dataframe\">\n",
       "  <thead>\n",
       "    <tr style=\"text-align: right;\">\n",
       "      <th></th>\n",
       "      <th>Actors</th>\n",
       "      <th>Awards</th>\n",
       "      <th>BoxOffice</th>\n",
       "      <th>Country</th>\n",
       "      <th>Director</th>\n",
       "      <th>Genre</th>\n",
       "      <th>Language</th>\n",
       "      <th>Metascore</th>\n",
       "      <th>Plot</th>\n",
       "      <th>Production</th>\n",
       "      <th>Rated</th>\n",
       "      <th>Runtime</th>\n",
       "      <th>Title</th>\n",
       "      <th>Type</th>\n",
       "      <th>Writer</th>\n",
       "      <th>Year</th>\n",
       "      <th>imdbID</th>\n",
       "      <th>imdbRating</th>\n",
       "      <th>imdbVotes</th>\n",
       "    </tr>\n",
       "  </thead>\n",
       "  <tbody>\n",
       "    <tr>\n",
       "      <th>0</th>\n",
       "      <td>Peter Weller, Nancy Allen, Dan O'Herlihy, Ronn...</td>\n",
       "      <td>Nominated for 2 Oscars. Another 11 wins &amp; 10 n...</td>\n",
       "      <td>NaN</td>\n",
       "      <td>USA</td>\n",
       "      <td>Paul Verhoeven</td>\n",
       "      <td>Action, Crime, Sci-Fi</td>\n",
       "      <td>English</td>\n",
       "      <td>67.0</td>\n",
       "      <td>In a dystopic and crime-ridden Detroit, a term...</td>\n",
       "      <td>Orion Pictures Corporation</td>\n",
       "      <td>R</td>\n",
       "      <td>102 min</td>\n",
       "      <td>RoboCop</td>\n",
       "      <td>movie</td>\n",
       "      <td>Edward Neumeier, Michael Miner</td>\n",
       "      <td>1987</td>\n",
       "      <td>tt0093870</td>\n",
       "      <td>7.5</td>\n",
       "      <td>204,183</td>\n",
       "    </tr>\n",
       "    <tr>\n",
       "      <th>1</th>\n",
       "      <td>Rachel Weisz, Vanessa Redgrave, Monica Bellucc...</td>\n",
       "      <td>8 wins &amp; 11 nominations.</td>\n",
       "      <td>900000.0</td>\n",
       "      <td>Canada, Germany</td>\n",
       "      <td>Larysa Kondracki</td>\n",
       "      <td>Action, Biography, Crime</td>\n",
       "      <td>English, Romanian, Russian, Serbian</td>\n",
       "      <td>59.0</td>\n",
       "      <td>A drama based on the experiences of Kathryn Bo...</td>\n",
       "      <td>IDP/Samuel goldwyn Films</td>\n",
       "      <td>R</td>\n",
       "      <td>112 min</td>\n",
       "      <td>The Whistleblower</td>\n",
       "      <td>movie</td>\n",
       "      <td>Larysa Kondracki, Eilis Kirwan</td>\n",
       "      <td>2010</td>\n",
       "      <td>tt0896872</td>\n",
       "      <td>7.2</td>\n",
       "      <td>28,522</td>\n",
       "    </tr>\n",
       "    <tr>\n",
       "      <th>2</th>\n",
       "      <td>Yoon-Seok Kim, Jung-woo Ha, Yeong-hie Seo, Yoo...</td>\n",
       "      <td>18 wins &amp; 24 nominations.</td>\n",
       "      <td>NaN</td>\n",
       "      <td>South Korea</td>\n",
       "      <td>Hong-jin Na</td>\n",
       "      <td>Action, Crime, Thriller</td>\n",
       "      <td>Korean</td>\n",
       "      <td>64.0</td>\n",
       "      <td>A disgraced ex-policeman who runs a small ring...</td>\n",
       "      <td>IFC Films</td>\n",
       "      <td>NOT RATED</td>\n",
       "      <td>125 min</td>\n",
       "      <td>The Chaser</td>\n",
       "      <td>movie</td>\n",
       "      <td>Won-Chan Hong, Shinho Lee, Hong-jin Na</td>\n",
       "      <td>2008</td>\n",
       "      <td>tt1190539</td>\n",
       "      <td>7.9</td>\n",
       "      <td>46,084</td>\n",
       "    </tr>\n",
       "    <tr>\n",
       "      <th>3</th>\n",
       "      <td>Kevin Conroy, Dana Delany, Hart Bochner, Stacy...</td>\n",
       "      <td>1 nomination.</td>\n",
       "      <td>NaN</td>\n",
       "      <td>USA</td>\n",
       "      <td>Eric Radomski, Bruce Timm, Kevin Altieri, Boyd...</td>\n",
       "      <td>Animation, Action, Adventure</td>\n",
       "      <td>English</td>\n",
       "      <td>NaN</td>\n",
       "      <td>Batman is wrongly implicated in a series of mu...</td>\n",
       "      <td>WARNER BROTHERS PICTURES</td>\n",
       "      <td>PG</td>\n",
       "      <td>76 min</td>\n",
       "      <td>Batman: Mask of the Phantasm</td>\n",
       "      <td>movie</td>\n",
       "      <td>Bob Kane (character created by: Batman), Alan ...</td>\n",
       "      <td>1993</td>\n",
       "      <td>tt0106364</td>\n",
       "      <td>7.9</td>\n",
       "      <td>35,653</td>\n",
       "    </tr>\n",
       "    <tr>\n",
       "      <th>4</th>\n",
       "      <td>Maggie Cheung, Tony Chiu-Wai Leung, Ping Lam S...</td>\n",
       "      <td>Nominated for 1 BAFTA Film Award. Another 44 w...</td>\n",
       "      <td>NaN</td>\n",
       "      <td>Hong Kong, China</td>\n",
       "      <td>Kar-Wai Wong</td>\n",
       "      <td>Drama, Romance</td>\n",
       "      <td>Cantonese, Shanghainese, French, Spanish</td>\n",
       "      <td>85.0</td>\n",
       "      <td>Two neighbors, a woman and a man, form a stron...</td>\n",
       "      <td>USA Films</td>\n",
       "      <td>PG</td>\n",
       "      <td>98 min</td>\n",
       "      <td>In the Mood for Love</td>\n",
       "      <td>movie</td>\n",
       "      <td>Kar-Wai Wong</td>\n",
       "      <td>2000</td>\n",
       "      <td>tt0118694</td>\n",
       "      <td>8.1</td>\n",
       "      <td>98,079</td>\n",
       "    </tr>\n",
       "  </tbody>\n",
       "</table>\n",
       "</div>"
      ],
      "text/plain": [
       "                                              Actors  \\\n",
       "0  Peter Weller, Nancy Allen, Dan O'Herlihy, Ronn...   \n",
       "1  Rachel Weisz, Vanessa Redgrave, Monica Bellucc...   \n",
       "2  Yoon-Seok Kim, Jung-woo Ha, Yeong-hie Seo, Yoo...   \n",
       "3  Kevin Conroy, Dana Delany, Hart Bochner, Stacy...   \n",
       "4  Maggie Cheung, Tony Chiu-Wai Leung, Ping Lam S...   \n",
       "\n",
       "                                              Awards  BoxOffice  \\\n",
       "0  Nominated for 2 Oscars. Another 11 wins & 10 n...        NaN   \n",
       "1                           8 wins & 11 nominations.   900000.0   \n",
       "2                          18 wins & 24 nominations.        NaN   \n",
       "3                                      1 nomination.        NaN   \n",
       "4  Nominated for 1 BAFTA Film Award. Another 44 w...        NaN   \n",
       "\n",
       "            Country                                           Director  \\\n",
       "0               USA                                     Paul Verhoeven   \n",
       "1   Canada, Germany                                   Larysa Kondracki   \n",
       "2       South Korea                                        Hong-jin Na   \n",
       "3               USA  Eric Radomski, Bruce Timm, Kevin Altieri, Boyd...   \n",
       "4  Hong Kong, China                                       Kar-Wai Wong   \n",
       "\n",
       "                          Genre                                  Language  \\\n",
       "0         Action, Crime, Sci-Fi                                   English   \n",
       "1      Action, Biography, Crime       English, Romanian, Russian, Serbian   \n",
       "2       Action, Crime, Thriller                                    Korean   \n",
       "3  Animation, Action, Adventure                                   English   \n",
       "4                Drama, Romance  Cantonese, Shanghainese, French, Spanish   \n",
       "\n",
       "   Metascore                                               Plot  \\\n",
       "0       67.0  In a dystopic and crime-ridden Detroit, a term...   \n",
       "1       59.0  A drama based on the experiences of Kathryn Bo...   \n",
       "2       64.0  A disgraced ex-policeman who runs a small ring...   \n",
       "3        NaN  Batman is wrongly implicated in a series of mu...   \n",
       "4       85.0  Two neighbors, a woman and a man, form a stron...   \n",
       "\n",
       "                   Production      Rated  Runtime  \\\n",
       "0  Orion Pictures Corporation          R  102 min   \n",
       "1    IDP/Samuel goldwyn Films          R  112 min   \n",
       "2                   IFC Films  NOT RATED  125 min   \n",
       "3    WARNER BROTHERS PICTURES         PG   76 min   \n",
       "4                   USA Films         PG   98 min   \n",
       "\n",
       "                          Title   Type  \\\n",
       "0                       RoboCop  movie   \n",
       "1             The Whistleblower  movie   \n",
       "2                    The Chaser  movie   \n",
       "3  Batman: Mask of the Phantasm  movie   \n",
       "4          In the Mood for Love  movie   \n",
       "\n",
       "                                              Writer  Year     imdbID  \\\n",
       "0                     Edward Neumeier, Michael Miner  1987  tt0093870   \n",
       "1                     Larysa Kondracki, Eilis Kirwan  2010  tt0896872   \n",
       "2             Won-Chan Hong, Shinho Lee, Hong-jin Na  2008  tt1190539   \n",
       "3  Bob Kane (character created by: Batman), Alan ...  1993  tt0106364   \n",
       "4                                       Kar-Wai Wong  2000  tt0118694   \n",
       "\n",
       "   imdbRating imdbVotes  \n",
       "0         7.5   204,183  \n",
       "1         7.2    28,522  \n",
       "2         7.9    46,084  \n",
       "3         7.9    35,653  \n",
       "4         8.1    98,079  "
      ]
     },
     "execution_count": 98,
     "metadata": {},
     "output_type": "execute_result"
    }
   ],
   "source": [
    "clean.head()"
   ]
  },
  {
   "cell_type": "code",
   "execution_count": 99,
   "metadata": {},
   "outputs": [
    {
     "data": {
      "text/plain": [
       "22133252.7"
      ]
     },
     "execution_count": 99,
     "metadata": {},
     "output_type": "execute_result"
    }
   ],
   "source": [
    "clean.loc[72, 'BoxOffice']"
   ]
  },
  {
   "cell_type": "code",
   "execution_count": 81,
   "metadata": {},
   "outputs": [
    {
     "data": {
      "text/plain": [
       "72      &pound;17,025,579\n",
       "95       &pound;4,676,810\n",
       "110    &pound;105,996,316\n",
       "117     &pound;17,000,000\n",
       "190        &pound;584,553\n",
       "198      &pound;1,612,881\n",
       "233        &pound;100,000\n",
       "236        &pound;114,501\n",
       "249      &pound;2,317,507\n",
       "329      &pound;2,425,377\n",
       "447         &pound;39,567\n",
       "467        &pound;296,294\n",
       "470    &pound;393,201,353\n",
       "508    &pound;664,987,816\n",
       "517     &pound;89,021,735\n",
       "Name: BoxOffice, dtype: object"
      ]
     },
     "execution_count": 81,
     "metadata": {},
     "output_type": "execute_result"
    }
   ],
   "source": [
    "clean['BoxOffice'].dropna()[~clean['BoxOffice'].dropna().str.contains('\\$')]"
   ]
  },
  {
   "cell_type": "code",
   "execution_count": 63,
   "metadata": {},
   "outputs": [
    {
     "data": {
      "text/plain": [
       "{'$', '&', ',', '/', ';', 'A', 'N', 'd', 'n', 'o', 'p', 'u'}"
      ]
     },
     "execution_count": 63,
     "metadata": {},
     "output_type": "execute_result"
    }
   ],
   "source": [
    "v =[]\n",
    "for i in movies['BoxOffice'].str.findall(r'\\D'):\n",
    "    v += i\n",
    "set(v)"
   ]
  },
  {
   "cell_type": "code",
   "execution_count": 1,
   "metadata": {},
   "outputs": [
    {
     "ename": "NameError",
     "evalue": "name 'movies' is not defined",
     "output_type": "error",
     "traceback": [
      "\u001b[0;31m---------------------------------------------------------------------------\u001b[0m",
      "\u001b[0;31mNameError\u001b[0m                                 Traceback (most recent call last)",
      "\u001b[0;32m<ipython-input-1-e5fba30eaa02>\u001b[0m in \u001b[0;36m<module>\u001b[0;34m()\u001b[0m\n\u001b[0;32m----> 1\u001b[0;31m \u001b[0mmovies\u001b[0m\u001b[0;34m.\u001b[0m\u001b[0mto_sql\u001b[0m\u001b[0;34m(\u001b[0m\u001b[0mname\u001b[0m\u001b[0;34m=\u001b[0m\u001b[0;34m'movies_clean'\u001b[0m\u001b[0;34m,\u001b[0m \u001b[0mcon\u001b[0m\u001b[0;34m=\u001b[0m\u001b[0mengine\u001b[0m\u001b[0;34m)\u001b[0m\u001b[0;34m\u001b[0m\u001b[0m\n\u001b[0m",
      "\u001b[0;31mNameError\u001b[0m: name 'movies' is not defined"
     ]
    }
   ],
   "source": [
    "# movies.to_sql(name='movies_clean', con=engine)"
   ]
  }
 ],
 "metadata": {
  "kernelspec": {
   "display_name": "Python 3",
   "language": "python",
   "name": "python3"
  },
  "language_info": {
   "codemirror_mode": {
    "name": "ipython",
    "version": 3
   },
   "file_extension": ".py",
   "mimetype": "text/x-python",
   "name": "python",
   "nbconvert_exporter": "python",
   "pygments_lexer": "ipython3",
   "version": "3.5.3"
  }
 },
 "nbformat": 4,
 "nbformat_minor": 2
}
